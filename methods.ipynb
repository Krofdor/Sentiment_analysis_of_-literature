{
 "cells": [
  {
   "cell_type": "code",
   "execution_count": 3,
   "metadata": {},
   "outputs": [],
   "source": [
    "from sklearn.feature_extraction.text import CountVectorizer\n",
    "from sklearn.feature_extraction.text import TfidfVectorizer\n",
    "from sklearn.feature_extraction.text import TfidfTransformer\n",
    "from sklearn.linear_model import SGDClassifier\n",
    "from sklearn.naive_bayes import MultinomialNB\n",
    "from sklearn.neighbors import KNeighborsClassifier\n",
    "from sklearn.pipeline import Pipeline\n",
    "import numpy as np"
   ]
  },
  {
   "cell_type": "code",
   "execution_count": null,
   "metadata": {},
   "outputs": [],
   "source": [
    "import pymorphy2\n",
    "import pandas as pd\n",
    "import glob\n",
    "import csv\n",
    "\n",
    "##########################################\n",
    "\n",
    "print(\"Точность на обучающей выборке:\\n\")\n",
    "\n",
    "docs_test = list_of_Labeled_words.words\n",
    "\n",
    "nb_clf = Pipeline([('vect', CountVectorizer()),\n",
    "                     ('tfidf', TfidfTransformer()),\n",
    "                     ('mnb', MultinomialNB()),\n",
    "                    ])\n",
    "\n",
    "nb_clf = nb_clf.fit(list_of_Labeled_words.words, list_of_Labeled_words.targets)\n",
    "\n",
    "predicted = nb_clf.predict(docs_test)\n",
    "nb = np.mean(predicted == list_of_Labeled_words.targets)\n",
    "print(\"CV + TF-IDF + NB: \", nb) \n",
    "\n",
    "svm_clf = Pipeline([('vect', CountVectorizer()),\n",
    "                     ('tfidf', TfidfTransformer()),\n",
    "                     ('svm', SGDClassifier(loss='hinge', penalty='l2', alpha=1e-3, n_iter=5, random_state=42))\n",
    "                    ])\n",
    "\n",
    "svm_clf = svm_clf.fit(list_of_Labeled_words.words, list_of_Labeled_words.targets)\n",
    "\n",
    "predicted = svm_clf.predict(docs_test)\n",
    "svm = np.mean(predicted == list_of_Labeled_words.targets)\n",
    "print(\"CV + TF-IDF + SVM: \", svm) \n",
    "\n",
    "knn_clf = Pipeline([('vect', CountVectorizer()),\n",
    "                     ('tfidf', TfidfTransformer()),\n",
    "                     ('knn', KNeighborsClassifier(n_neighbors=5, p=2, algorithm='kd_tree'))\n",
    "                    ])\n",
    "\n",
    "knn_clf = knn_clf.fit(list_of_Labeled_words.words, list_of_Labeled_words.targets)\n",
    "\n",
    "predicted = knn_clf.predict(docs_test)\n",
    "knn = np.mean(predicted == list_of_Labeled_words.targets)\n",
    "print(\"CV + TF-IDF + k-NN: \", knn) \n",
    "\n",
    "print(\"Точность на тестовой выборке:\\n\")\n",
    "\n",
    "docs_test = words_with_emotions['Russian']\n",
    "\n",
    "predicted = nb_clf.predict(docs_test)\n",
    "nb = np.mean(predicted == list_of_Labeled_words.targets)\n",
    "print(\"CV + TF-IDF + NB: \", nb) \n",
    "\n",
    "predicted = svm_clf.predict(docs_test)\n",
    "svm = np.mean(predicted == list_of_Labeled_words.targets)\n",
    "print(\"CV + TF-IDF + SVM: \", svm) \n",
    "\n",
    "predicted = knn_clf.predict(docs_test)\n",
    "knn = np.mean(predicted == list_of_Labeled_words.targets)\n",
    "print(\"CV + TF-IDF + k-NN: \", knn) "
   ]
  },
  {
   "cell_type": "code",
   "execution_count": null,
   "metadata": {},
   "outputs": [],
   "source": []
  }
 ],
 "metadata": {
  "kernelspec": {
   "display_name": "Python 3",
   "language": "python",
   "name": "python3"
  },
  "language_info": {
   "codemirror_mode": {
    "name": "ipython",
    "version": 3
   },
   "file_extension": ".py",
   "mimetype": "text/x-python",
   "name": "python",
   "nbconvert_exporter": "python",
   "pygments_lexer": "ipython3",
   "version": "3.6.7"
  }
 },
 "nbformat": 4,
 "nbformat_minor": 2
}
