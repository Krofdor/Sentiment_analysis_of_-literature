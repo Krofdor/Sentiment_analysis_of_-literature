{
 "cells": [
  {
   "cell_type": "code",
   "execution_count": null,
   "metadata": {},
   "outputs": [],
   "source": [
    "import pymorphy2\n",
    "import pandas as pd\n",
    "import glob\n",
    "import csv\n",
    "import nltk\n",
    "from nltk.corpus import stopwords\n",
    "from pymystem3 import Mystem\n",
    "from string import punctuation\n",
    "\n",
    "path = '/home/kirill/text.txt'\n",
    "\n",
    "test_txt = open(path,encoding=\"utf8\")\n",
    "data = test_txt.read()\n",
    "\n",
    "morph = pymorphy2.MorphAnalyzer()\n",
    "Unused_chars=[':',',','.','-','\\n','?','!',')','(', '«', '»']\n",
    "POS = ['NOUN', 'ADJF', 'ADJS', 'COMP', 'VERB', 'INFN', 'PRTF', 'PRTS', 'GRND', 'ADVB', 'NPRO']\n",
    "normal_form_words = []\n",
    "\n",
    "nltk.download(\"stopwords\")\n",
    "\n",
    "mystem = Mystem() \n",
    "russian_stopwords = stopwords.words(\"russian\")\n",
    "\n",
    "#Preprocess function\n",
    "def preprocess_text(text):\n",
    "    tokens = mystem.lemmatize(text.lower())\n",
    "    tokens = [token for token in tokens if token not in russian_stopwords\\\n",
    "              and token != \" \" \\\n",
    "              and token.strip() not in punctuation]\n",
    "    \n",
    "    text = \" \".join(tokens)\n",
    "    \n",
    "    return text\n",
    "\n",
    "for line in test_txt:\n",
    "        l=line.split('.')\n",
    "        for sentense in l:\n",
    "            new_sent = preprocess_text(sentense)\n",
    "            words = new_sent.split()\n",
    "            for i in range(len(words)):\n",
    "                #Добавление слова в список слов и избавление от лишних символов\n",
    "                temp = words[i]\n",
    "                for char in Unused_chars:\n",
    "                    if char in temp:\n",
    "                        temp=words[i].replace(char,'')\n",
    "                        \n",
    "                word_pos = morph.parse(temp)[0].tag.POS\n",
    "                if(word_pos in POS):\n",
    "                    normal_form_words.append(morph.parse(temp)[0].normal_form)\n",
    "\n",
    "test_txt.close()"
   ]
  }
 ],
 "metadata": {
  "kernelspec": {
   "display_name": "Python 3",
   "language": "python",
   "name": "python3"
  },
  "language_info": {
   "codemirror_mode": {
    "name": "ipython",
    "version": 3
   },
   "file_extension": ".py",
   "mimetype": "text/x-python",
   "name": "python",
   "nbconvert_exporter": "python",
   "pygments_lexer": "ipython3",
   "version": "3.6.7"
  }
 },
 "nbformat": 4,
 "nbformat_minor": 2
}
