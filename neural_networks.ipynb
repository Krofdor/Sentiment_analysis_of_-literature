{
 "cells": [
  {
   "cell_type": "code",
   "execution_count": null,
   "metadata": {},
   "outputs": [],
   "source": [
    "import matplotlib \n",
    "import matplotlib.pyplot as plt \n",
    "import numpy as np \n",
    "from keras.utils import np_utils \n",
    "from keras.preprocessing import sequence \n",
    "from keras.models import Sequential \n",
    "from keras.layers.core import Dense, Dropout, Activation \n",
    "from keras.layers.embeddings import Embedding \n",
    "from keras.layers.recurrent import LSTM \n",
    "from keras.datasets import imdb "
   ]
  },
  {
   "cell_type": "code",
   "execution_count": null,
   "metadata": {},
   "outputs": [],
   "source": [
    "def vectorize(sequenses, dimension=10000): \n",
    "results = np.zeros((len(sequenses), dimension)) \n",
    "for i, sequenses in enumerate(sequenses): \n",
    "results[i, sequenses] = 1 \n",
    "return results \n",
    "\n",
    "(training_data, training_targets), (testing_data, testing_targets) = imdb.load_data(num_words=10000) \n",
    "data = np.concatenate((training_data, testing_data), axis=0) \n",
    "targets = np.concatenate((training_targets, testing_targets), axis=0) \n",
    "data = vectorize(data) \n",
    "targets = np.array(targets).astype(\"float32\") \n",
    "test_x = data[:10000] \n",
    "test_y = targets[:10000] \n",
    "train_x = data[10000☺ \n",
    "train_y = targets[10000☺ \n",
    "butch_size = 500 \n",
    "\n",
    "#train_x = np.reshape(train_x, (train_x.shape[0], 1, train_x.shape[1])) \n",
    "model = Sequential() \n",
    "#model.add(Dense(50, activation=\"relu\", input_shape=(10000, ))) \n",
    "#model.add(Dropout(0.3, noise_shape=None, seed=None)) \n",
    "#model.add(Dense(50, activation=\"relu\")) \n",
    "#model.add(Dropout(0.2, noise_shape=None, seed=None)) \n",
    "#model.add(Dense(50, activation=\"relu\")) \n",
    "#model.add(Dense(1)) \n",
    "#model.add(Activation('sigmoid')) \n",
    "#model.summary() \n",
    "\n",
    "model.add(Embedding(10000, 128)) \n",
    "model.add(LSTM(64, return_sequences=True)) \n",
    "model.add(LSTM(64)) \n",
    "model.add(Dropout(0.5)) \n",
    "model.add(Dense(1)) \n",
    "model.add(Activation('sigmoid')) \n",
    "\n",
    "model.compile( \n",
    "optimizer=\"adam\", \n",
    "loss=\"binary_crossentropy\", \n",
    "#class_mode=\"binary\", \n",
    "#metrics=[\"accuracy\"] \n",
    ") \n",
    "\n",
    "#X = np.reshape(train_x, (train_x.shape[0], 1, train_x.shape[1])) \n",
    "results = model.fit( \n",
    "train_x, train_y, \n",
    "nb_epoch=1, \n",
    "#epochs=2, \n",
    "batch_size=2, \n",
    "#validation_data=(test_x, test_y) \n",
    ") \n",
    "\n",
    "print(\"Test Accuracy:\", np.mean(results.history[\"val_acc\"]))"
   ]
  },
  {
   "cell_type": "code",
   "execution_count": null,
   "metadata": {},
   "outputs": [],
   "source": []
  }
 ],
 "metadata": {
  "kernelspec": {
   "display_name": "Python 3",
   "language": "python",
   "name": "python3"
  },
  "language_info": {
   "codemirror_mode": {
    "name": "ipython",
    "version": 3
   },
   "file_extension": ".py",
   "mimetype": "text/x-python",
   "name": "python",
   "nbconvert_exporter": "python",
   "pygments_lexer": "ipython3",
   "version": "3.6.7"
  }
 },
 "nbformat": 4,
 "nbformat_minor": 2
}
